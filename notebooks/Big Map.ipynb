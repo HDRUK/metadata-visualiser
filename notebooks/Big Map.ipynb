{
 "cells": [
  {
   "cell_type": "code",
   "execution_count": 1,
   "id": "e84c85c1",
   "metadata": {},
   "outputs": [],
   "source": [
    "import json\n",
    "import sys\n",
    "import os\n",
    "sys.path.append(os.path.dirname(os.getcwd()))\n",
    "from ModelMapper import ModelMapper\n",
    "import networkx as nx"
   ]
  },
  {
   "cell_type": "code",
   "execution_count": 3,
   "id": "6a8e1e6e",
   "metadata": {},
   "outputs": [],
   "source": [
    "d1 = json.load(open(\"example_gdm1.json\"))\n",
    "gdm_to_schema = ModelMapper(d1,'gdmv1','schemaorg',render=False)\n",
    "\n",
    "d2 = json.load(open(\"example_2_1_1.json\")) \n",
    "extra = {                                                                                                                                 \n",
    "        'pid':1234,                                                                                                                           \n",
    "        'id':1235                                                                                                                             \n",
    "}  \n",
    "hdr_to_gdm = ModelMapper(d2,'hdrukv211','gdmv1',extra=extra,render=False) "
   ]
  },
  {
   "cell_type": "code",
   "execution_count": null,
   "id": "60bf9bb4",
   "metadata": {},
   "outputs": [],
   "source": [
    "g1 = gdm_to_schema.get_nx_graph()\n",
    "g2 = hdr_to_gdm.get_nx_graph(icolor='orange',ocolor='mediumvioletred')"
   ]
  },
  {
   "cell_type": "code",
   "execution_count": null,
   "id": "ef3d25e6",
   "metadata": {},
   "outputs": [],
   "source": [
    "g3 = nx.compose(g1,g2)"
   ]
  },
  {
   "cell_type": "code",
   "execution_count": null,
   "id": "4e637e1f",
   "metadata": {},
   "outputs": [],
   "source": [
    "nt = gdm_to_schema.get_network(nx_graph=g3,directed=False,cdn_resources='in_line')"
   ]
  },
  {
   "cell_type": "code",
   "execution_count": null,
   "id": "b889e2e4",
   "metadata": {},
   "outputs": [],
   "source": [
    "nt.barnes_hut(spring_strength=0.5,spring_length=0.1)  "
   ]
  },
  {
   "cell_type": "code",
   "execution_count": null,
   "id": "fd6531b1",
   "metadata": {},
   "outputs": [],
   "source": [
    "nt.show(\"p1.html\")"
   ]
  },
  {
   "cell_type": "code",
   "execution_count": null,
   "id": "b9e9d886",
   "metadata": {},
   "outputs": [],
   "source": []
  }
 ],
 "metadata": {
  "kernelspec": {
   "display_name": "Python 3 (ipykernel)",
   "language": "python",
   "name": "python3"
  },
  "language_info": {
   "codemirror_mode": {
    "name": "ipython",
    "version": 3
   },
   "file_extension": ".py",
   "mimetype": "text/x-python",
   "name": "python",
   "nbconvert_exporter": "python",
   "pygments_lexer": "ipython3",
   "version": "3.9.17"
  }
 },
 "nbformat": 4,
 "nbformat_minor": 5
}
